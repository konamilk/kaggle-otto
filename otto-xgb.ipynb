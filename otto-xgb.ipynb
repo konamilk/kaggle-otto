{
 "cells": [
  {
   "metadata": {
    "_uuid": "8f2839f25d086af736a60e9eeb907d3b93b6e0e5",
    "_cell_guid": "b1076dfc-b9ad-4769-8c92-a6c4dae69d19",
    "trusted": true
   },
   "cell_type": "code",
   "source": [
    "# This Python 3 environment comes with many helpful analytics libraries installed\n",
    "# It is defined by the kaggle/python Docker image: https://github.com/kaggle/docker-python\n",
    "# For example, here's several helpful packages to load\n",
    "\n",
    "import numpy as np # linear algebra\n",
    "import pandas as pd # data processing, CSV file I/O (e.g. pd.read_csv)\n",
    "\n",
    "# Input data files are available in the read-only \"../input/\" directory\n",
    "# For example, running this (by clicking run or pressing Shift+Enter) will list all files under the input directory\n",
    "\n",
    "import os\n",
    "for dirname, _, filenames in os.walk('/kaggle/input'):\n",
    "    for filename in filenames:\n",
    "        print(os.path.join(dirname, filename))\n",
    "\n",
    "# You can write up to 5GB to the current directory (/kaggle/working/) that gets preserved as output when you create a version using \"Save & Run All\" \n",
    "# You can also write temporary files to /kaggle/temp/, but they won't be saved outside of the current session"
   ],
   "execution_count": 1,
   "outputs": [
    {
     "output_type": "stream",
     "text": "/kaggle/input/otto-group-product-classification-challenge/train.csv\n/kaggle/input/otto-group-product-classification-challenge/sampleSubmission.csv\n/kaggle/input/otto-group-product-classification-challenge/test.csv\n",
     "name": "stdout"
    }
   ]
  },
  {
   "metadata": {
    "_uuid": "d629ff2d2480ee46fbb7e2d37f6b5fab8052498a",
    "_cell_guid": "79c7e3d0-c299-4dcb-8224-4455121ee9b0",
    "trusted": true
   },
   "cell_type": "code",
   "source": [
    "df = pd.read_csv('../input/otto-group-product-classification-challenge/train.csv')"
   ],
   "execution_count": 2,
   "outputs": []
  },
  {
   "metadata": {
    "trusted": true
   },
   "cell_type": "code",
   "source": [
    "df"
   ],
   "execution_count": 3,
   "outputs": [
    {
     "output_type": "execute_result",
     "execution_count": 3,
     "data": {
      "text/plain": "          id  feat_1  feat_2  feat_3  feat_4  feat_5  feat_6  feat_7  feat_8  \\\n0          1       1       0       0       0       0       0       0       0   \n1          2       0       0       0       0       0       0       0       1   \n2          3       0       0       0       0       0       0       0       1   \n3          4       1       0       0       1       6       1       5       0   \n4          5       0       0       0       0       0       0       0       0   \n...      ...     ...     ...     ...     ...     ...     ...     ...     ...   \n61873  61874       1       0       0       1       1       0       0       0   \n61874  61875       4       0       0       0       0       0       0       0   \n61875  61876       0       0       0       0       0       0       0       3   \n61876  61877       1       0       0       0       0       0       0       0   \n61877  61878       0       0       0       0       0       0       0       0   \n\n       feat_9  ...  feat_85  feat_86  feat_87  feat_88  feat_89  feat_90  \\\n0           0  ...        1        0        0        0        0        0   \n1           0  ...        0        0        0        0        0        0   \n2           0  ...        0        0        0        0        0        0   \n3           0  ...        0        1        2        0        0        0   \n4           0  ...        1        0        0        0        0        1   \n...       ...  ...      ...      ...      ...      ...      ...      ...   \n61873       0  ...        1        0        0        0        0        0   \n61874       0  ...        0        2        0        0        2        0   \n61875       1  ...        0        3        1        0        0        0   \n61876       0  ...        0        0        0        0        1        0   \n61877       0  ...        0        0        0        0        0        0   \n\n       feat_91  feat_92  feat_93   target  \n0            0        0        0  Class_1  \n1            0        0        0  Class_1  \n2            0        0        0  Class_1  \n3            0        0        0  Class_1  \n4            0        0        0  Class_1  \n...        ...      ...      ...      ...  \n61873        0        2        0  Class_9  \n61874        0        1        0  Class_9  \n61875        0        0        0  Class_9  \n61876        3       10        0  Class_9  \n61877        0        2        0  Class_9  \n\n[61878 rows x 95 columns]",
      "text/html": "<div>\n<style scoped>\n    .dataframe tbody tr th:only-of-type {\n        vertical-align: middle;\n    }\n\n    .dataframe tbody tr th {\n        vertical-align: top;\n    }\n\n    .dataframe thead th {\n        text-align: right;\n    }\n</style>\n<table border=\"1\" class=\"dataframe\">\n  <thead>\n    <tr style=\"text-align: right;\">\n      <th></th>\n      <th>id</th>\n      <th>feat_1</th>\n      <th>feat_2</th>\n      <th>feat_3</th>\n      <th>feat_4</th>\n      <th>feat_5</th>\n      <th>feat_6</th>\n      <th>feat_7</th>\n      <th>feat_8</th>\n      <th>feat_9</th>\n      <th>...</th>\n      <th>feat_85</th>\n      <th>feat_86</th>\n      <th>feat_87</th>\n      <th>feat_88</th>\n      <th>feat_89</th>\n      <th>feat_90</th>\n      <th>feat_91</th>\n      <th>feat_92</th>\n      <th>feat_93</th>\n      <th>target</th>\n    </tr>\n  </thead>\n  <tbody>\n    <tr>\n      <th>0</th>\n      <td>1</td>\n      <td>1</td>\n      <td>0</td>\n      <td>0</td>\n      <td>0</td>\n      <td>0</td>\n      <td>0</td>\n      <td>0</td>\n      <td>0</td>\n      <td>0</td>\n      <td>...</td>\n      <td>1</td>\n      <td>0</td>\n      <td>0</td>\n      <td>0</td>\n      <td>0</td>\n      <td>0</td>\n      <td>0</td>\n      <td>0</td>\n      <td>0</td>\n      <td>Class_1</td>\n    </tr>\n    <tr>\n      <th>1</th>\n      <td>2</td>\n      <td>0</td>\n      <td>0</td>\n      <td>0</td>\n      <td>0</td>\n      <td>0</td>\n      <td>0</td>\n      <td>0</td>\n      <td>1</td>\n      <td>0</td>\n      <td>...</td>\n      <td>0</td>\n      <td>0</td>\n      <td>0</td>\n      <td>0</td>\n      <td>0</td>\n      <td>0</td>\n      <td>0</td>\n      <td>0</td>\n      <td>0</td>\n      <td>Class_1</td>\n    </tr>\n    <tr>\n      <th>2</th>\n      <td>3</td>\n      <td>0</td>\n      <td>0</td>\n      <td>0</td>\n      <td>0</td>\n      <td>0</td>\n      <td>0</td>\n      <td>0</td>\n      <td>1</td>\n      <td>0</td>\n      <td>...</td>\n      <td>0</td>\n      <td>0</td>\n      <td>0</td>\n      <td>0</td>\n      <td>0</td>\n      <td>0</td>\n      <td>0</td>\n      <td>0</td>\n      <td>0</td>\n      <td>Class_1</td>\n    </tr>\n    <tr>\n      <th>3</th>\n      <td>4</td>\n      <td>1</td>\n      <td>0</td>\n      <td>0</td>\n      <td>1</td>\n      <td>6</td>\n      <td>1</td>\n      <td>5</td>\n      <td>0</td>\n      <td>0</td>\n      <td>...</td>\n      <td>0</td>\n      <td>1</td>\n      <td>2</td>\n      <td>0</td>\n      <td>0</td>\n      <td>0</td>\n      <td>0</td>\n      <td>0</td>\n      <td>0</td>\n      <td>Class_1</td>\n    </tr>\n    <tr>\n      <th>4</th>\n      <td>5</td>\n      <td>0</td>\n      <td>0</td>\n      <td>0</td>\n      <td>0</td>\n      <td>0</td>\n      <td>0</td>\n      <td>0</td>\n      <td>0</td>\n      <td>0</td>\n      <td>...</td>\n      <td>1</td>\n      <td>0</td>\n      <td>0</td>\n      <td>0</td>\n      <td>0</td>\n      <td>1</td>\n      <td>0</td>\n      <td>0</td>\n      <td>0</td>\n      <td>Class_1</td>\n    </tr>\n    <tr>\n      <th>...</th>\n      <td>...</td>\n      <td>...</td>\n      <td>...</td>\n      <td>...</td>\n      <td>...</td>\n      <td>...</td>\n      <td>...</td>\n      <td>...</td>\n      <td>...</td>\n      <td>...</td>\n      <td>...</td>\n      <td>...</td>\n      <td>...</td>\n      <td>...</td>\n      <td>...</td>\n      <td>...</td>\n      <td>...</td>\n      <td>...</td>\n      <td>...</td>\n      <td>...</td>\n      <td>...</td>\n    </tr>\n    <tr>\n      <th>61873</th>\n      <td>61874</td>\n      <td>1</td>\n      <td>0</td>\n      <td>0</td>\n      <td>1</td>\n      <td>1</td>\n      <td>0</td>\n      <td>0</td>\n      <td>0</td>\n      <td>0</td>\n      <td>...</td>\n      <td>1</td>\n      <td>0</td>\n      <td>0</td>\n      <td>0</td>\n      <td>0</td>\n      <td>0</td>\n      <td>0</td>\n      <td>2</td>\n      <td>0</td>\n      <td>Class_9</td>\n    </tr>\n    <tr>\n      <th>61874</th>\n      <td>61875</td>\n      <td>4</td>\n      <td>0</td>\n      <td>0</td>\n      <td>0</td>\n      <td>0</td>\n      <td>0</td>\n      <td>0</td>\n      <td>0</td>\n      <td>0</td>\n      <td>...</td>\n      <td>0</td>\n      <td>2</td>\n      <td>0</td>\n      <td>0</td>\n      <td>2</td>\n      <td>0</td>\n      <td>0</td>\n      <td>1</td>\n      <td>0</td>\n      <td>Class_9</td>\n    </tr>\n    <tr>\n      <th>61875</th>\n      <td>61876</td>\n      <td>0</td>\n      <td>0</td>\n      <td>0</td>\n      <td>0</td>\n      <td>0</td>\n      <td>0</td>\n      <td>0</td>\n      <td>3</td>\n      <td>1</td>\n      <td>...</td>\n      <td>0</td>\n      <td>3</td>\n      <td>1</td>\n      <td>0</td>\n      <td>0</td>\n      <td>0</td>\n      <td>0</td>\n      <td>0</td>\n      <td>0</td>\n      <td>Class_9</td>\n    </tr>\n    <tr>\n      <th>61876</th>\n      <td>61877</td>\n      <td>1</td>\n      <td>0</td>\n      <td>0</td>\n      <td>0</td>\n      <td>0</td>\n      <td>0</td>\n      <td>0</td>\n      <td>0</td>\n      <td>0</td>\n      <td>...</td>\n      <td>0</td>\n      <td>0</td>\n      <td>0</td>\n      <td>0</td>\n      <td>1</td>\n      <td>0</td>\n      <td>3</td>\n      <td>10</td>\n      <td>0</td>\n      <td>Class_9</td>\n    </tr>\n    <tr>\n      <th>61877</th>\n      <td>61878</td>\n      <td>0</td>\n      <td>0</td>\n      <td>0</td>\n      <td>0</td>\n      <td>0</td>\n      <td>0</td>\n      <td>0</td>\n      <td>0</td>\n      <td>0</td>\n      <td>...</td>\n      <td>0</td>\n      <td>0</td>\n      <td>0</td>\n      <td>0</td>\n      <td>0</td>\n      <td>0</td>\n      <td>0</td>\n      <td>2</td>\n      <td>0</td>\n      <td>Class_9</td>\n    </tr>\n  </tbody>\n</table>\n<p>61878 rows × 95 columns</p>\n</div>"
     },
     "metadata": {}
    }
   ]
  },
  {
   "metadata": {
    "trusted": true
   },
   "cell_type": "code",
   "source": [
    "import matplotlib.pyplot as plt\n",
    "import seaborn as sns"
   ],
   "execution_count": 4,
   "outputs": []
  },
  {
   "metadata": {
    "trusted": true
   },
   "cell_type": "code",
   "source": [
    "df.info()"
   ],
   "execution_count": 5,
   "outputs": [
    {
     "output_type": "stream",
     "text": "<class 'pandas.core.frame.DataFrame'>\nRangeIndex: 61878 entries, 0 to 61877\nData columns (total 95 columns):\n #   Column   Non-Null Count  Dtype \n---  ------   --------------  ----- \n 0   id       61878 non-null  int64 \n 1   feat_1   61878 non-null  int64 \n 2   feat_2   61878 non-null  int64 \n 3   feat_3   61878 non-null  int64 \n 4   feat_4   61878 non-null  int64 \n 5   feat_5   61878 non-null  int64 \n 6   feat_6   61878 non-null  int64 \n 7   feat_7   61878 non-null  int64 \n 8   feat_8   61878 non-null  int64 \n 9   feat_9   61878 non-null  int64 \n 10  feat_10  61878 non-null  int64 \n 11  feat_11  61878 non-null  int64 \n 12  feat_12  61878 non-null  int64 \n 13  feat_13  61878 non-null  int64 \n 14  feat_14  61878 non-null  int64 \n 15  feat_15  61878 non-null  int64 \n 16  feat_16  61878 non-null  int64 \n 17  feat_17  61878 non-null  int64 \n 18  feat_18  61878 non-null  int64 \n 19  feat_19  61878 non-null  int64 \n 20  feat_20  61878 non-null  int64 \n 21  feat_21  61878 non-null  int64 \n 22  feat_22  61878 non-null  int64 \n 23  feat_23  61878 non-null  int64 \n 24  feat_24  61878 non-null  int64 \n 25  feat_25  61878 non-null  int64 \n 26  feat_26  61878 non-null  int64 \n 27  feat_27  61878 non-null  int64 \n 28  feat_28  61878 non-null  int64 \n 29  feat_29  61878 non-null  int64 \n 30  feat_30  61878 non-null  int64 \n 31  feat_31  61878 non-null  int64 \n 32  feat_32  61878 non-null  int64 \n 33  feat_33  61878 non-null  int64 \n 34  feat_34  61878 non-null  int64 \n 35  feat_35  61878 non-null  int64 \n 36  feat_36  61878 non-null  int64 \n 37  feat_37  61878 non-null  int64 \n 38  feat_38  61878 non-null  int64 \n 39  feat_39  61878 non-null  int64 \n 40  feat_40  61878 non-null  int64 \n 41  feat_41  61878 non-null  int64 \n 42  feat_42  61878 non-null  int64 \n 43  feat_43  61878 non-null  int64 \n 44  feat_44  61878 non-null  int64 \n 45  feat_45  61878 non-null  int64 \n 46  feat_46  61878 non-null  int64 \n 47  feat_47  61878 non-null  int64 \n 48  feat_48  61878 non-null  int64 \n 49  feat_49  61878 non-null  int64 \n 50  feat_50  61878 non-null  int64 \n 51  feat_51  61878 non-null  int64 \n 52  feat_52  61878 non-null  int64 \n 53  feat_53  61878 non-null  int64 \n 54  feat_54  61878 non-null  int64 \n 55  feat_55  61878 non-null  int64 \n 56  feat_56  61878 non-null  int64 \n 57  feat_57  61878 non-null  int64 \n 58  feat_58  61878 non-null  int64 \n 59  feat_59  61878 non-null  int64 \n 60  feat_60  61878 non-null  int64 \n 61  feat_61  61878 non-null  int64 \n 62  feat_62  61878 non-null  int64 \n 63  feat_63  61878 non-null  int64 \n 64  feat_64  61878 non-null  int64 \n 65  feat_65  61878 non-null  int64 \n 66  feat_66  61878 non-null  int64 \n 67  feat_67  61878 non-null  int64 \n 68  feat_68  61878 non-null  int64 \n 69  feat_69  61878 non-null  int64 \n 70  feat_70  61878 non-null  int64 \n 71  feat_71  61878 non-null  int64 \n 72  feat_72  61878 non-null  int64 \n 73  feat_73  61878 non-null  int64 \n 74  feat_74  61878 non-null  int64 \n 75  feat_75  61878 non-null  int64 \n 76  feat_76  61878 non-null  int64 \n 77  feat_77  61878 non-null  int64 \n 78  feat_78  61878 non-null  int64 \n 79  feat_79  61878 non-null  int64 \n 80  feat_80  61878 non-null  int64 \n 81  feat_81  61878 non-null  int64 \n 82  feat_82  61878 non-null  int64 \n 83  feat_83  61878 non-null  int64 \n 84  feat_84  61878 non-null  int64 \n 85  feat_85  61878 non-null  int64 \n 86  feat_86  61878 non-null  int64 \n 87  feat_87  61878 non-null  int64 \n 88  feat_88  61878 non-null  int64 \n 89  feat_89  61878 non-null  int64 \n 90  feat_90  61878 non-null  int64 \n 91  feat_91  61878 non-null  int64 \n 92  feat_92  61878 non-null  int64 \n 93  feat_93  61878 non-null  int64 \n 94  target   61878 non-null  object\ndtypes: int64(94), object(1)\nmemory usage: 44.8+ MB\n",
     "name": "stdout"
    }
   ]
  },
  {
   "metadata": {
    "trusted": true
   },
   "cell_type": "code",
   "source": [
    "df.describe()"
   ],
   "execution_count": 6,
   "outputs": [
    {
     "output_type": "execute_result",
     "execution_count": 6,
     "data": {
      "text/plain": "                 id       feat_1        feat_2        feat_3        feat_4  \\\ncount  61878.000000  61878.00000  61878.000000  61878.000000  61878.000000   \nmean   30939.500000      0.38668      0.263066      0.901467      0.779081   \nstd    17862.784315      1.52533      1.252073      2.934818      2.788005   \nmin        1.000000      0.00000      0.000000      0.000000      0.000000   \n25%    15470.250000      0.00000      0.000000      0.000000      0.000000   \n50%    30939.500000      0.00000      0.000000      0.000000      0.000000   \n75%    46408.750000      0.00000      0.000000      0.000000      0.000000   \nmax    61878.000000     61.00000     51.000000     64.000000     70.000000   \n\n             feat_5        feat_6        feat_7        feat_8        feat_9  \\\ncount  61878.000000  61878.000000  61878.000000  61878.000000  61878.000000   \nmean       0.071043      0.025696      0.193704      0.662433      1.011296   \nstd        0.438902      0.215333      1.030102      2.255770      3.474822   \nmin        0.000000      0.000000      0.000000      0.000000      0.000000   \n25%        0.000000      0.000000      0.000000      0.000000      0.000000   \n50%        0.000000      0.000000      0.000000      0.000000      0.000000   \n75%        0.000000      0.000000      0.000000      1.000000      0.000000   \nmax       19.000000     10.000000     38.000000     76.000000     43.000000   \n\n       ...       feat_84       feat_85       feat_86       feat_87  \\\ncount  ...  61878.000000  61878.000000  61878.000000  61878.000000   \nmean   ...      0.070752      0.532306      1.128576      0.393549   \nstd    ...      1.151460      1.900438      2.681554      1.575455   \nmin    ...      0.000000      0.000000      0.000000      0.000000   \n25%    ...      0.000000      0.000000      0.000000      0.000000   \n50%    ...      0.000000      0.000000      0.000000      0.000000   \n75%    ...      0.000000      0.000000      1.000000      0.000000   \nmax    ...     76.000000     55.000000     65.000000     67.000000   \n\n            feat_88       feat_89       feat_90       feat_91       feat_92  \\\ncount  61878.000000  61878.000000  61878.000000  61878.000000  61878.000000   \nmean       0.874915      0.457772      0.812421      0.264941      0.380119   \nstd        2.115466      1.527385      4.597804      2.045646      0.982385   \nmin        0.000000      0.000000      0.000000      0.000000      0.000000   \n25%        0.000000      0.000000      0.000000      0.000000      0.000000   \n50%        0.000000      0.000000      0.000000      0.000000      0.000000   \n75%        1.000000      0.000000      0.000000      0.000000      0.000000   \nmax       30.000000     61.000000    130.000000     52.000000     19.000000   \n\n            feat_93  \ncount  61878.000000  \nmean       0.126135  \nstd        1.201720  \nmin        0.000000  \n25%        0.000000  \n50%        0.000000  \n75%        0.000000  \nmax       87.000000  \n\n[8 rows x 94 columns]",
      "text/html": "<div>\n<style scoped>\n    .dataframe tbody tr th:only-of-type {\n        vertical-align: middle;\n    }\n\n    .dataframe tbody tr th {\n        vertical-align: top;\n    }\n\n    .dataframe thead th {\n        text-align: right;\n    }\n</style>\n<table border=\"1\" class=\"dataframe\">\n  <thead>\n    <tr style=\"text-align: right;\">\n      <th></th>\n      <th>id</th>\n      <th>feat_1</th>\n      <th>feat_2</th>\n      <th>feat_3</th>\n      <th>feat_4</th>\n      <th>feat_5</th>\n      <th>feat_6</th>\n      <th>feat_7</th>\n      <th>feat_8</th>\n      <th>feat_9</th>\n      <th>...</th>\n      <th>feat_84</th>\n      <th>feat_85</th>\n      <th>feat_86</th>\n      <th>feat_87</th>\n      <th>feat_88</th>\n      <th>feat_89</th>\n      <th>feat_90</th>\n      <th>feat_91</th>\n      <th>feat_92</th>\n      <th>feat_93</th>\n    </tr>\n  </thead>\n  <tbody>\n    <tr>\n      <th>count</th>\n      <td>61878.000000</td>\n      <td>61878.00000</td>\n      <td>61878.000000</td>\n      <td>61878.000000</td>\n      <td>61878.000000</td>\n      <td>61878.000000</td>\n      <td>61878.000000</td>\n      <td>61878.000000</td>\n      <td>61878.000000</td>\n      <td>61878.000000</td>\n      <td>...</td>\n      <td>61878.000000</td>\n      <td>61878.000000</td>\n      <td>61878.000000</td>\n      <td>61878.000000</td>\n      <td>61878.000000</td>\n      <td>61878.000000</td>\n      <td>61878.000000</td>\n      <td>61878.000000</td>\n      <td>61878.000000</td>\n      <td>61878.000000</td>\n    </tr>\n    <tr>\n      <th>mean</th>\n      <td>30939.500000</td>\n      <td>0.38668</td>\n      <td>0.263066</td>\n      <td>0.901467</td>\n      <td>0.779081</td>\n      <td>0.071043</td>\n      <td>0.025696</td>\n      <td>0.193704</td>\n      <td>0.662433</td>\n      <td>1.011296</td>\n      <td>...</td>\n      <td>0.070752</td>\n      <td>0.532306</td>\n      <td>1.128576</td>\n      <td>0.393549</td>\n      <td>0.874915</td>\n      <td>0.457772</td>\n      <td>0.812421</td>\n      <td>0.264941</td>\n      <td>0.380119</td>\n      <td>0.126135</td>\n    </tr>\n    <tr>\n      <th>std</th>\n      <td>17862.784315</td>\n      <td>1.52533</td>\n      <td>1.252073</td>\n      <td>2.934818</td>\n      <td>2.788005</td>\n      <td>0.438902</td>\n      <td>0.215333</td>\n      <td>1.030102</td>\n      <td>2.255770</td>\n      <td>3.474822</td>\n      <td>...</td>\n      <td>1.151460</td>\n      <td>1.900438</td>\n      <td>2.681554</td>\n      <td>1.575455</td>\n      <td>2.115466</td>\n      <td>1.527385</td>\n      <td>4.597804</td>\n      <td>2.045646</td>\n      <td>0.982385</td>\n      <td>1.201720</td>\n    </tr>\n    <tr>\n      <th>min</th>\n      <td>1.000000</td>\n      <td>0.00000</td>\n      <td>0.000000</td>\n      <td>0.000000</td>\n      <td>0.000000</td>\n      <td>0.000000</td>\n      <td>0.000000</td>\n      <td>0.000000</td>\n      <td>0.000000</td>\n      <td>0.000000</td>\n      <td>...</td>\n      <td>0.000000</td>\n      <td>0.000000</td>\n      <td>0.000000</td>\n      <td>0.000000</td>\n      <td>0.000000</td>\n      <td>0.000000</td>\n      <td>0.000000</td>\n      <td>0.000000</td>\n      <td>0.000000</td>\n      <td>0.000000</td>\n    </tr>\n    <tr>\n      <th>25%</th>\n      <td>15470.250000</td>\n      <td>0.00000</td>\n      <td>0.000000</td>\n      <td>0.000000</td>\n      <td>0.000000</td>\n      <td>0.000000</td>\n      <td>0.000000</td>\n      <td>0.000000</td>\n      <td>0.000000</td>\n      <td>0.000000</td>\n      <td>...</td>\n      <td>0.000000</td>\n      <td>0.000000</td>\n      <td>0.000000</td>\n      <td>0.000000</td>\n      <td>0.000000</td>\n      <td>0.000000</td>\n      <td>0.000000</td>\n      <td>0.000000</td>\n      <td>0.000000</td>\n      <td>0.000000</td>\n    </tr>\n    <tr>\n      <th>50%</th>\n      <td>30939.500000</td>\n      <td>0.00000</td>\n      <td>0.000000</td>\n      <td>0.000000</td>\n      <td>0.000000</td>\n      <td>0.000000</td>\n      <td>0.000000</td>\n      <td>0.000000</td>\n      <td>0.000000</td>\n      <td>0.000000</td>\n      <td>...</td>\n      <td>0.000000</td>\n      <td>0.000000</td>\n      <td>0.000000</td>\n      <td>0.000000</td>\n      <td>0.000000</td>\n      <td>0.000000</td>\n      <td>0.000000</td>\n      <td>0.000000</td>\n      <td>0.000000</td>\n      <td>0.000000</td>\n    </tr>\n    <tr>\n      <th>75%</th>\n      <td>46408.750000</td>\n      <td>0.00000</td>\n      <td>0.000000</td>\n      <td>0.000000</td>\n      <td>0.000000</td>\n      <td>0.000000</td>\n      <td>0.000000</td>\n      <td>0.000000</td>\n      <td>1.000000</td>\n      <td>0.000000</td>\n      <td>...</td>\n      <td>0.000000</td>\n      <td>0.000000</td>\n      <td>1.000000</td>\n      <td>0.000000</td>\n      <td>1.000000</td>\n      <td>0.000000</td>\n      <td>0.000000</td>\n      <td>0.000000</td>\n      <td>0.000000</td>\n      <td>0.000000</td>\n    </tr>\n    <tr>\n      <th>max</th>\n      <td>61878.000000</td>\n      <td>61.00000</td>\n      <td>51.000000</td>\n      <td>64.000000</td>\n      <td>70.000000</td>\n      <td>19.000000</td>\n      <td>10.000000</td>\n      <td>38.000000</td>\n      <td>76.000000</td>\n      <td>43.000000</td>\n      <td>...</td>\n      <td>76.000000</td>\n      <td>55.000000</td>\n      <td>65.000000</td>\n      <td>67.000000</td>\n      <td>30.000000</td>\n      <td>61.000000</td>\n      <td>130.000000</td>\n      <td>52.000000</td>\n      <td>19.000000</td>\n      <td>87.000000</td>\n    </tr>\n  </tbody>\n</table>\n<p>8 rows × 94 columns</p>\n</div>"
     },
     "metadata": {}
    }
   ]
  },
  {
   "metadata": {
    "trusted": true
   },
   "cell_type": "code",
   "source": [
    "x_train = df.drop(['id', 'target'], axis=1)\n",
    "y_train = df['target']"
   ],
   "execution_count": 7,
   "outputs": []
  },
  {
   "metadata": {
    "trusted": true
   },
   "cell_type": "code",
   "source": [
    "from sklearn.preprocessing import LabelEncoder\n",
    "le = LabelEncoder()\n",
    "le.fit(y_train)\n",
    "y_train = le.transform(y_train)"
   ],
   "execution_count": 8,
   "outputs": []
  },
  {
   "metadata": {
    "trusted": true
   },
   "cell_type": "code",
   "source": [
    "y_train"
   ],
   "execution_count": 9,
   "outputs": [
    {
     "output_type": "execute_result",
     "execution_count": 9,
     "data": {
      "text/plain": "array([0, 0, 0, ..., 8, 8, 8])"
     },
     "metadata": {}
    }
   ]
  },
  {
   "metadata": {
    "trusted": true
   },
   "cell_type": "code",
   "source": [
    "import xgboost as xgb\n",
    "from sklearn.model_selection import StratifiedKFold, ParameterGrid, GridSearchCV\n",
    "\n",
    "params = {\n",
    "    'learning_rate': [0.1],\n",
    "    'max_depth': [9], #[3,4,5,6,7,8,9],\n",
    "    'min_child_weight': [1.0],\n",
    "    'n_estimators': [100],\n",
    "    'col_sample_by_tree': [1.0],\n",
    "    'col_sample_by_level': [0.3],\n",
    "    'subsample': [0.9],\n",
    "    'seed': [0]\n",
    "}\n",
    "\n",
    "model = xgb.XGBClassifier(\n",
    "    objective='multi:softmax',\n",
    "    tree_method = 'gpu_hist',\n",
    "    num_class=9,\n",
    "    **params)"
   ],
   "execution_count": 10,
   "outputs": []
  },
  {
   "metadata": {
    "trusted": true
   },
   "cell_type": "code",
   "source": [
    "skf = StratifiedKFold(\n",
    "    n_splits=5,\n",
    "    shuffle=True,\n",
    "    random_state=0\n",
    ")"
   ],
   "execution_count": 11,
   "outputs": []
  },
  {
   "metadata": {
    "trusted": true
   },
   "cell_type": "code",
   "source": [
    "clf = GridSearchCV(\n",
    "    estimator=model,\n",
    "    param_grid=params,\n",
    "    cv=skf,\n",
    "    scoring='neg_log_loss',\n",
    "    verbose=3,\n",
    "    n_jobs=-1\n",
    ")"
   ],
   "execution_count": 12,
   "outputs": []
  },
  {
   "metadata": {
    "trusted": true
   },
   "cell_type": "code",
   "source": [
    "clf.fit(x_train, y_train)"
   ],
   "execution_count": 13,
   "outputs": [
    {
     "output_type": "stream",
     "text": "Fitting 5 folds for each of 7 candidates, totalling 35 fits\n",
     "name": "stdout"
    },
    {
     "output_type": "stream",
     "text": "[Parallel(n_jobs=-1)]: Using backend LokyBackend with 2 concurrent workers.\n[Parallel(n_jobs=-1)]: Done  28 tasks      | elapsed:  2.8min\n[Parallel(n_jobs=-1)]: Done  35 out of  35 | elapsed:  4.6min finished\n",
     "name": "stderr"
    },
    {
     "output_type": "stream",
     "text": "[06:08:13] WARNING: ../src/learner.cc:516: \nParameters: { col_sample_by_level, col_sample_by_tree } might not be used.\n\n  This may not be accurate due to some parameters are only used in language bindings but\n  passed down to XGBoost core.  Or some parameters are not used but slip through this\n  verification. Please open an issue if you find above cases.\n\n\n",
     "name": "stdout"
    },
    {
     "output_type": "execute_result",
     "execution_count": 13,
     "data": {
      "text/plain": "GridSearchCV(cv=StratifiedKFold(n_splits=5, random_state=0, shuffle=True),\n             estimator=XGBClassifier(base_score=None, booster=None,\n                                     col_sample_by_level=[0.3],\n                                     col_sample_by_tree=[1.0],\n                                     colsample_bylevel=None,\n                                     colsample_bynode=None,\n                                     colsample_bytree=None, gamma=None,\n                                     gpu_id=None, importance_type='gain',\n                                     interaction_constraints=None,\n                                     learning_rate=[0.1], max_delta_st...\n                                     reg_lambda=None, scale_pos_weight=None,\n                                     seed=[0], subsample=[0.9],\n                                     tree_method='gpu_hist',\n                                     validate_parameters=None, ...),\n             n_jobs=-1,\n             param_grid={'col_sample_by_level': [0.3],\n                         'col_sample_by_tree': [1.0], 'learning_rate': [0.1],\n                         'max_depth': [3, 4, 5, 6, 7, 8, 9],\n                         'min_child_weight': [1.0], 'n_estimators': [100],\n                         'seed': [0], 'subsample': [0.9]},\n             scoring='neg_log_loss', verbose=3)"
     },
     "metadata": {}
    }
   ]
  },
  {
   "metadata": {
    "trusted": true
   },
   "cell_type": "code",
   "source": [
    "clf"
   ],
   "execution_count": 14,
   "outputs": [
    {
     "output_type": "execute_result",
     "execution_count": 14,
     "data": {
      "text/plain": "GridSearchCV(cv=StratifiedKFold(n_splits=5, random_state=0, shuffle=True),\n             estimator=XGBClassifier(base_score=None, booster=None,\n                                     col_sample_by_level=[0.3],\n                                     col_sample_by_tree=[1.0],\n                                     colsample_bylevel=None,\n                                     colsample_bynode=None,\n                                     colsample_bytree=None, gamma=None,\n                                     gpu_id=None, importance_type='gain',\n                                     interaction_constraints=None,\n                                     learning_rate=[0.1], max_delta_st...\n                                     reg_lambda=None, scale_pos_weight=None,\n                                     seed=[0], subsample=[0.9],\n                                     tree_method='gpu_hist',\n                                     validate_parameters=None, ...),\n             n_jobs=-1,\n             param_grid={'col_sample_by_level': [0.3],\n                         'col_sample_by_tree': [1.0], 'learning_rate': [0.1],\n                         'max_depth': [3, 4, 5, 6, 7, 8, 9],\n                         'min_child_weight': [1.0], 'n_estimators': [100],\n                         'seed': [0], 'subsample': [0.9]},\n             scoring='neg_log_loss', verbose=3)"
     },
     "metadata": {}
    }
   ]
  },
  {
   "metadata": {
    "trusted": true
   },
   "cell_type": "code",
   "source": [
    "clf.best_score_"
   ],
   "execution_count": 15,
   "outputs": [
    {
     "output_type": "execute_result",
     "execution_count": 15,
     "data": {
      "text/plain": "-0.4966454010230527"
     },
     "metadata": {}
    }
   ]
  },
  {
   "metadata": {
    "trusted": true
   },
   "cell_type": "code",
   "source": [
    "clf.best_params_"
   ],
   "execution_count": 16,
   "outputs": [
    {
     "output_type": "execute_result",
     "execution_count": 16,
     "data": {
      "text/plain": "{'col_sample_by_level': 0.3,\n 'col_sample_by_tree': 1.0,\n 'learning_rate': 0.1,\n 'max_depth': 9,\n 'min_child_weight': 1.0,\n 'n_estimators': 100,\n 'seed': 0,\n 'subsample': 0.9}"
     },
     "metadata": {}
    }
   ]
  },
  {
   "metadata": {
    "trusted": true
   },
   "cell_type": "code",
   "source": [
    "model = clf.best_estimator_"
   ],
   "execution_count": 17,
   "outputs": []
  },
  {
   "metadata": {
    "trusted": true
   },
   "cell_type": "code",
   "source": [
    "df_test = pd.read_csv('../input/otto-group-product-classification-challenge/test.csv')"
   ],
   "execution_count": 18,
   "outputs": []
  },
  {
   "metadata": {
    "trusted": true
   },
   "cell_type": "code",
   "source": [
    "x_test = df_test.drop(['id'], axis=1)"
   ],
   "execution_count": 19,
   "outputs": []
  },
  {
   "metadata": {
    "trusted": true
   },
   "cell_type": "code",
   "source": [
    "pred = model.predict(x_test)"
   ],
   "execution_count": 20,
   "outputs": []
  },
  {
   "metadata": {
    "trusted": true
   },
   "cell_type": "code",
   "source": [
    "pred_inverse = le.inverse_transform(pred)"
   ],
   "execution_count": 21,
   "outputs": []
  },
  {
   "metadata": {
    "trusted": true
   },
   "cell_type": "code",
   "source": [
    "df_submission = pd.read_csv('../input/otto-group-product-classification-challenge/sampleSubmission.csv')"
   ],
   "execution_count": 22,
   "outputs": []
  },
  {
   "metadata": {
    "trusted": true
   },
   "cell_type": "code",
   "source": [
    "for c in range(1,10):\n",
    "    field = 'Class_' + str(c)\n",
    "    df_submission.loc[:,field] = (pred_inverse == field) * 1"
   ],
   "execution_count": 23,
   "outputs": []
  },
  {
   "metadata": {
    "trusted": true
   },
   "cell_type": "code",
   "source": [
    "df_submission"
   ],
   "execution_count": 24,
   "outputs": [
    {
     "output_type": "execute_result",
     "execution_count": 24,
     "data": {
      "text/plain": "            id  Class_1  Class_2  Class_3  Class_4  Class_5  Class_6  Class_7  \\\n0            1        0        0        0        1        0        0        0   \n1            2        0        0        0        0        0        1        0   \n2            3        0        0        0        0        0        1        0   \n3            4        0        1        0        0        0        0        0   \n4            5        0        0        0        0        0        0        0   \n...        ...      ...      ...      ...      ...      ...      ...      ...   \n144363  144364        1        0        0        0        0        0        0   \n144364  144365        0        0        1        0        0        0        0   \n144365  144366        0        1        0        0        0        0        0   \n144366  144367        0        0        0        1        0        0        0   \n144367  144368        0        1        0        0        0        0        0   \n\n        Class_8  Class_9  \n0             0        0  \n1             0        0  \n2             0        0  \n3             0        0  \n4             0        1  \n...         ...      ...  \n144363        0        0  \n144364        0        0  \n144365        0        0  \n144366        0        0  \n144367        0        0  \n\n[144368 rows x 10 columns]",
      "text/html": "<div>\n<style scoped>\n    .dataframe tbody tr th:only-of-type {\n        vertical-align: middle;\n    }\n\n    .dataframe tbody tr th {\n        vertical-align: top;\n    }\n\n    .dataframe thead th {\n        text-align: right;\n    }\n</style>\n<table border=\"1\" class=\"dataframe\">\n  <thead>\n    <tr style=\"text-align: right;\">\n      <th></th>\n      <th>id</th>\n      <th>Class_1</th>\n      <th>Class_2</th>\n      <th>Class_3</th>\n      <th>Class_4</th>\n      <th>Class_5</th>\n      <th>Class_6</th>\n      <th>Class_7</th>\n      <th>Class_8</th>\n      <th>Class_9</th>\n    </tr>\n  </thead>\n  <tbody>\n    <tr>\n      <th>0</th>\n      <td>1</td>\n      <td>0</td>\n      <td>0</td>\n      <td>0</td>\n      <td>1</td>\n      <td>0</td>\n      <td>0</td>\n      <td>0</td>\n      <td>0</td>\n      <td>0</td>\n    </tr>\n    <tr>\n      <th>1</th>\n      <td>2</td>\n      <td>0</td>\n      <td>0</td>\n      <td>0</td>\n      <td>0</td>\n      <td>0</td>\n      <td>1</td>\n      <td>0</td>\n      <td>0</td>\n      <td>0</td>\n    </tr>\n    <tr>\n      <th>2</th>\n      <td>3</td>\n      <td>0</td>\n      <td>0</td>\n      <td>0</td>\n      <td>0</td>\n      <td>0</td>\n      <td>1</td>\n      <td>0</td>\n      <td>0</td>\n      <td>0</td>\n    </tr>\n    <tr>\n      <th>3</th>\n      <td>4</td>\n      <td>0</td>\n      <td>1</td>\n      <td>0</td>\n      <td>0</td>\n      <td>0</td>\n      <td>0</td>\n      <td>0</td>\n      <td>0</td>\n      <td>0</td>\n    </tr>\n    <tr>\n      <th>4</th>\n      <td>5</td>\n      <td>0</td>\n      <td>0</td>\n      <td>0</td>\n      <td>0</td>\n      <td>0</td>\n      <td>0</td>\n      <td>0</td>\n      <td>0</td>\n      <td>1</td>\n    </tr>\n    <tr>\n      <th>...</th>\n      <td>...</td>\n      <td>...</td>\n      <td>...</td>\n      <td>...</td>\n      <td>...</td>\n      <td>...</td>\n      <td>...</td>\n      <td>...</td>\n      <td>...</td>\n      <td>...</td>\n    </tr>\n    <tr>\n      <th>144363</th>\n      <td>144364</td>\n      <td>1</td>\n      <td>0</td>\n      <td>0</td>\n      <td>0</td>\n      <td>0</td>\n      <td>0</td>\n      <td>0</td>\n      <td>0</td>\n      <td>0</td>\n    </tr>\n    <tr>\n      <th>144364</th>\n      <td>144365</td>\n      <td>0</td>\n      <td>0</td>\n      <td>1</td>\n      <td>0</td>\n      <td>0</td>\n      <td>0</td>\n      <td>0</td>\n      <td>0</td>\n      <td>0</td>\n    </tr>\n    <tr>\n      <th>144365</th>\n      <td>144366</td>\n      <td>0</td>\n      <td>1</td>\n      <td>0</td>\n      <td>0</td>\n      <td>0</td>\n      <td>0</td>\n      <td>0</td>\n      <td>0</td>\n      <td>0</td>\n    </tr>\n    <tr>\n      <th>144366</th>\n      <td>144367</td>\n      <td>0</td>\n      <td>0</td>\n      <td>0</td>\n      <td>1</td>\n      <td>0</td>\n      <td>0</td>\n      <td>0</td>\n      <td>0</td>\n      <td>0</td>\n    </tr>\n    <tr>\n      <th>144367</th>\n      <td>144368</td>\n      <td>0</td>\n      <td>1</td>\n      <td>0</td>\n      <td>0</td>\n      <td>0</td>\n      <td>0</td>\n      <td>0</td>\n      <td>0</td>\n      <td>0</td>\n    </tr>\n  </tbody>\n</table>\n<p>144368 rows × 10 columns</p>\n</div>"
     },
     "metadata": {}
    }
   ]
  },
  {
   "metadata": {
    "trusted": true,
    "pycharm": {
     "name": "#%%\n"
    }
   },
   "cell_type": "code",
   "source": [
    "df_submission.to_csv('submission.csv', index=False)"
   ],
   "execution_count": 25,
   "outputs": []
  }
 ],
 "metadata": {
  "kernelspec": {
   "name": "python3",
   "display_name": "Python 3",
   "language": "python"
  },
  "language_info": {
   "name": "python",
   "version": "3.7.6",
   "mimetype": "text/x-python",
   "codemirror_mode": {
    "name": "ipython",
    "version": 3
   },
   "pygments_lexer": "ipython3",
   "nbconvert_exporter": "python",
   "file_extension": ".py"
  }
 },
 "nbformat": 4,
 "nbformat_minor": 4
}